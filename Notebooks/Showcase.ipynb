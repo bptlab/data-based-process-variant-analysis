{
 "cells": [
  {
   "cell_type": "code",
   "execution_count": 10,
   "id": "ee8415d8",
   "metadata": {},
   "outputs": [
    {
     "name": "stdout",
     "output_type": "stream",
     "text": [
      "The autoreload extension is already loaded. To reload it, use:\n",
      "  %reload_ext autoreload\n"
     ]
    }
   ],
   "source": [
    "%load_ext autoreload\n",
    "%autoreload 2\n",
    "import warnings\n",
    "warnings.filterwarnings('ignore')"
   ]
  },
  {
   "cell_type": "code",
   "execution_count": 11,
   "id": "4a32fe85-8fb9-466e-9f1d-97897dadc635",
   "metadata": {},
   "outputs": [],
   "source": [
    "import os\n",
    "import sys\n",
    "import pandas as pd"
   ]
  },
  {
   "cell_type": "code",
   "execution_count": 12,
   "id": "a1d6ef5b",
   "metadata": {},
   "outputs": [],
   "source": [
    "module_path = os.path.abspath(os.path.join('..'))\n",
    "if module_path not in sys.path:\n",
    "    sys.path.append(module_path)"
   ]
  },
  {
   "cell_type": "code",
   "execution_count": 13,
   "id": "070b05a0-c058-4f4e-afe6-21c952143d22",
   "metadata": {},
   "outputs": [],
   "source": [
    "from vadbp.variant_comparator import VariantComparator\n",
    "from vadbp.visual_variant_comparator import VisualVariantComparator"
   ]
  },
  {
   "cell_type": "code",
   "execution_count": 14,
   "id": "be06107f",
   "metadata": {},
   "outputs": [],
   "source": [
    "def clean_df(df):\n",
    "    df.drop([\"Unnamed: 0.1\", \"Unnamed: 0\"], axis=1, inplace=True)\n",
    "    return VariantComparator.format_df(df, case_id='hadm_id', activity_key='department', timestamp_key='intime')"
   ]
  },
  {
   "cell_type": "markdown",
   "id": "9aff3184-df18-4a56-8038-518648360754",
   "metadata": {},
   "source": [
    "# Data Loading"
   ]
  },
  {
   "cell_type": "code",
   "execution_count": 15,
   "id": "9bad2974",
   "metadata": {},
   "outputs": [],
   "source": [
    "kidney_data = pd.read_csv('../Event Logs_3rd_Iteration/Kidney_Log.csv')\n",
    "kidney_data = clean_df(kidney_data)\n",
    "subject_over_60_kidney  = kidney_data[kidney_data['age']>60]['case:concept:name']\n",
    "subject_under_60_kidney  = kidney_data[kidney_data['age']<=60]['case:concept:name']\n",
    "kidney_over_60 = kidney_data[kidney_data['case:concept:name'].isin(subject_over_60_kidney)]\n",
    "kidney_under_60 = kidney_data[kidney_data['case:concept:name'].isin(subject_under_60_kidney)]"
   ]
  },
  {
   "cell_type": "markdown",
   "id": "f811acce-ba32-466e-90b7-be7668d8698b",
   "metadata": {
    "tags": []
   },
   "source": [
    "# Visualization"
   ]
  },
  {
   "cell_type": "markdown",
   "id": "9095b486-baf7-484c-97c2-8290cd9f6993",
   "metadata": {
    "tags": []
   },
   "source": [
    "## Kidney Data Age Comparator"
   ]
  },
  {
   "cell_type": "code",
   "execution_count": 19,
   "id": "ed1742f5-585b-49f9-ae62-401b6b145d01",
   "metadata": {},
   "outputs": [],
   "source": [
    "varcop_kidney = VariantComparator(kidney_over_60, kidney_under_60, kidney_data, 'Over 60', 'Under 60')\n",
    "varcop_kidney.prepare()"
   ]
  },
  {
   "cell_type": "code",
   "execution_count": 20,
   "id": "81c21b56-8ffe-4d09-8082-926ee74403b2",
   "metadata": {},
   "outputs": [
    {
     "data": {
      "application/vnd.jupyter.widget-view+json": {
       "model_id": "bb38301998e84a1cbad7b15bff3954a6",
       "version_major": 2,
       "version_minor": 0
      },
      "text/plain": [
       "HBox(children=(VBox(children=(ToggleButtons(options=('Continuous', 'Categorical'), value='Continuous'), Button…"
      ]
     },
     "metadata": {},
     "output_type": "display_data"
    }
   ],
   "source": [
    "visual_comp_kidney = VisualVariantComparator(varcop_kidney)\n",
    "visual_comp_kidney.show()"
   ]
  },
  {
   "cell_type": "code",
   "execution_count": null,
   "id": "465ce0c7-a798-40eb-93af-e928ad07b346",
   "metadata": {},
   "outputs": [],
   "source": []
  },
  {
   "cell_type": "markdown",
   "id": "770835f9-bdec-4994-8207-cf1b18403fa4",
   "metadata": {
    "jp-MarkdownHeadingCollapsed": true,
    "tags": []
   },
   "source": [
    "## HEART RATE Over 60 / Under 60"
   ]
  },
  {
   "cell_type": "code",
   "execution_count": null,
   "id": "90402cb9-b660-4307-bf08-b2b875ff279a",
   "metadata": {},
   "outputs": [],
   "source": [
    "csv_data = pd.read_csv('../Event Logs_3rd_Iteration/Heart_Failure_Log.csv')\n",
    "csv_data = clean_df(csv_data)\n",
    "subject_over_60  = csv_data[csv_data['age']>60]['case:concept:name']\n",
    "subject_under_60  = csv_data[csv_data['age']<=60]['case:concept:name']\n",
    "over_60 = csv_data[csv_data['case:concept:name'].isin(subject_over_60)]\n",
    "under_60 = csv_data[csv_data['case:concept:name'].isin(subject_under_60)]"
   ]
  },
  {
   "cell_type": "code",
   "execution_count": null,
   "id": "510ec0b2-b438-4bc6-9c25-256ee0be424a",
   "metadata": {},
   "outputs": [],
   "source": [
    "varcop_over60_under60 = VariantComparator(over_60, under_60, csv_data)\n",
    "varcop_over60_under60.prepare()"
   ]
  },
  {
   "cell_type": "code",
   "execution_count": null,
   "id": "0df6754e-a83a-4211-96b6-2c74617036a0",
   "metadata": {},
   "outputs": [],
   "source": [
    "age_visual_comparator = VisualVariantComparator(varcop_over60_under60)\n",
    "age_visual_comparator.show()"
   ]
  },
  {
   "cell_type": "code",
   "execution_count": null,
   "id": "6c8ac6a0-524b-45f7-9529-ffaecf35103a",
   "metadata": {},
   "outputs": [],
   "source": []
  }
 ],
 "metadata": {
  "kernelspec": {
   "display_name": "Python 3 (ipykernel)",
   "language": "python",
   "name": "python3"
  },
  "language_info": {
   "codemirror_mode": {
    "name": "ipython",
    "version": 3
   },
   "file_extension": ".py",
   "mimetype": "text/x-python",
   "name": "python",
   "nbconvert_exporter": "python",
   "pygments_lexer": "ipython3",
   "version": "3.8.12"
  }
 },
 "nbformat": 4,
 "nbformat_minor": 5
}
