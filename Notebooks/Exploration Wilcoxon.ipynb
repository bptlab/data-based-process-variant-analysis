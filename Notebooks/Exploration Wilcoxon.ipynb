{
 "cells": [
  {
   "cell_type": "code",
   "execution_count": 2,
   "metadata": {},
   "outputs": [],
   "source": [
    "from pm4py.objects.log.importer.xes import importer as xes_import_factory\n",
    "import pm4py\n",
    "\n",
    "from pandas.api.types import is_numeric_dtype\n",
    "import pingouin as pg\n",
    "\n",
    "import pandas as pd\n",
    "import numpy as np"
   ]
  },
  {
   "cell_type": "code",
   "execution_count": null,
   "metadata": {},
   "outputs": [],
   "source": [
    "under_60 = xes_import_factory.apply('../Event Logs/under_60.xes/under_60.xes')\n",
    "over_60 = xes_import_factory.apply('../Event Logs/over_60.xes/over_60.xes')\n"
   ]
  },
  {
   "cell_type": "code",
   "execution_count": null,
   "metadata": {},
   "outputs": [],
   "source": [
    "len(under_60)"
   ]
  },
  {
   "cell_type": "code",
   "execution_count": null,
   "metadata": {},
   "outputs": [],
   "source": [
    "len(over_60)"
   ]
  },
  {
   "cell_type": "code",
   "execution_count": null,
   "metadata": {},
   "outputs": [],
   "source": [
    "pd.DataFrame(over_60[0])"
   ]
  },
  {
   "cell_type": "code",
   "execution_count": null,
   "metadata": {},
   "outputs": [],
   "source": []
  },
  {
   "cell_type": "code",
   "execution_count": null,
   "metadata": {},
   "outputs": [],
   "source": [
    "def calc_activity_values(log):\n",
    "    activity_values = {}\n",
    "    for trace in log:\n",
    "        df = pd.DataFrame(trace)\n",
    "        activities = df[\"concept:name\"].unique()\n",
    "        for activity in activities:\n",
    "            if activity not in activity_values:\n",
    "                activity_values[activity] = {}\n",
    "\n",
    "            measurements = df.columns\n",
    "            for measurement in measurements:\n",
    "                measurement_vals = df[df[\"concept:name\"] == activity][measurement]\n",
    "                if is_numeric_dtype(measurement_vals):\n",
    "                    mean_val = np.nanmean(measurement_vals)\n",
    "                    # todo: exclude nan?\n",
    "                    if not np.isnan(mean_val):\n",
    "                        if measurement in activity_values[activity]:\n",
    "                            activity_values[activity][measurement].append(mean_val)\n",
    "                        else:\n",
    "                            activity_values[activity][measurement] = [mean_val]\n",
    "    return activity_values"
   ]
  },
  {
   "cell_type": "code",
   "execution_count": null,
   "metadata": {},
   "outputs": [],
   "source": [
    "def calculate_mwu_batch(i1, i2):\n",
    "    df_mwu = pd.DataFrame(columns=[\"Activity\", \"Measurement\", \"U-val\", \"alternative\", \"p-val\", \"RBC\", \"CLES\"])\n",
    "    for activity in o6.keys():\n",
    "        if activity in u6:\n",
    "            for measurement in o6[activity].keys():\n",
    "                if measurement in u6[activity]:\n",
    "                    result = pg.mwu(o6[activity][measurement], u6[activity][measurement])\n",
    "                    result[\"Activity\"] = activity\n",
    "                    result[\"Measurement\"] = measurement\n",
    "                    #result.set_index([\"Activity\", \"Measurement\"], inplace=True)\n",
    "\n",
    "                    df_mwu = pd.concat([df_mwu, result])\n",
    "    df_mwu[\"RBC_abs\"] = df_mwu[\"RBC\"].abs()\n",
    "    df_mwu = df_mwu.sort_values([\"Activity\", \"RBC_abs\"], ascending=False)\n",
    "    return df_mwu"
   ]
  },
  {
   "cell_type": "code",
   "execution_count": null,
   "metadata": {},
   "outputs": [],
   "source": []
  },
  {
   "cell_type": "code",
   "execution_count": null,
   "metadata": {},
   "outputs": [],
   "source": [
    "o6 = calc_activity_values(over_60)\n",
    "u6 = calc_activity_values(under_60)"
   ]
  },
  {
   "cell_type": "code",
   "execution_count": null,
   "metadata": {},
   "outputs": [],
   "source": [
    "df_mwu = calculate_mwu_batch(o6, u6)"
   ]
  },
  {
   "cell_type": "code",
   "execution_count": null,
   "metadata": {},
   "outputs": [],
   "source": [
    "df_mwu.groupby(\"Activity\").head(5)\n",
    "# add sample size\n",
    "# filter p value < 0.05\n",
    "# p value correction: divide by # of values pro cohorte (Bonferroni Correction)\n",
    "\n",
    "# a b a vs a b\n",
    "# Varianten einzeln betrachten\n",
    "\n",
    "# alle Attribute, die nur in emergency department sind, sind case attribute \n",
    "# -> ist bekannt\n",
    "# Emergency Department Attribute weglassen (dort wird noch nichts aufgenommen)\n",
    "\n",
    "# next steps:\n",
    "# coefficient of variation (only on ratio scaled attributes)\n",
    "# eher zwischen den Aktivitäten anschauen über stat. tests\n",
    "\n",
    "# wie funktioniert process comparator in PROM?\n",
    "\n",
    "# Daten aus Emergency Department rausziehen aus dem Datensatz (macht Jonas für uns)"
   ]
  },
  {
   "cell_type": "code",
   "execution_count": null,
   "metadata": {},
   "outputs": [],
   "source": []
  }
 ],
 "metadata": {
  "kernelspec": {
   "display_name": "Python 3 (ipykernel)",
   "language": "python",
   "name": "python3"
  },
  "language_info": {
   "codemirror_mode": {
    "name": "ipython",
    "version": 3
   },
   "file_extension": ".py",
   "mimetype": "text/x-python",
   "name": "python",
   "nbconvert_exporter": "python",
   "pygments_lexer": "ipython3",
   "version": "3.8.10"
  }
 },
 "nbformat": 4,
 "nbformat_minor": 4
}
