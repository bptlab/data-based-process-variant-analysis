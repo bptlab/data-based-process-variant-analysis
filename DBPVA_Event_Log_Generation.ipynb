{
 "cells": [
  {
   "cell_type": "code",
   "execution_count": null,
   "metadata": {},
   "outputs": [],
   "source": [
    "import numpy as np\n",
    "from psycopg2 import connect\n",
    "import pandas as pd\n",
    "import pm4py\n",
    "import numpy as np\n",
    "import pandasql as ps\n",
    "from pm4py.objects.conversion.log import converter as log_converter\n",
    "from scipy.stats import variation\n",
    "#connect to postgres mimic database\n",
    "con = connect(dbname=\"postgres\", host=\"127.0.0.1\", user=\"postgres\", password=\"1234\")\n",
    "con.set_client_encoding('utf8')\n",
    "cursor = con.cursor()\n",
    "import matplotlib.cm as cm\n",
    "import matplotlib\n",
    "import sklearn.preprocessing as sk\n",
    "import re"
   ]
  },
  {
   "cell_type": "code",
   "execution_count": null,
   "metadata": {},
   "outputs": [],
   "source": [
    "cursor.execute(\"SELECT * from mimic_hosp.drgcodes\")\n",
    "drgs = cursor.fetchall()\n",
    "cols = list(map(lambda x: x[0], cursor.description))\n",
    "drgs = pd.DataFrame(drgs, columns=cols)"
   ]
  },
  {
   "cell_type": "code",
   "execution_count": null,
   "metadata": {},
   "outputs": [],
   "source": [
    "pd.set_option(\"display.max_rows\", 500)"
   ]
  },
  {
   "cell_type": "code",
   "execution_count": null,
   "metadata": {},
   "outputs": [],
   "source": [
    "pd.set_option(\"display.max_columns\", 500)"
   ]
  },
  {
   "cell_type": "code",
   "execution_count": null,
   "metadata": {},
   "outputs": [],
   "source": [
    "cursor.execute('SELECT * FROM mimic_hosp.diagnoses_icd')\n",
    "icds = cursor.fetchall()\n",
    "cols = list(map(lambda x: x[0], cursor.description))\n",
    "icds = pd.DataFrame(icds, columns=cols)"
   ]
  },
  {
   "cell_type": "code",
   "execution_count": null,
   "metadata": {},
   "outputs": [],
   "source": [
    "cursor.execute('SELECT * FROM mimic_hosp.d_icd_diagnoses')\n",
    "desc_icd = cursor.fetchall()\n",
    "cols = list(map(lambda x: x[0], cursor.description))\n",
    "desc_icd = pd.DataFrame(desc_icd, columns=cols)"
   ]
  },
  {
   "cell_type": "code",
   "execution_count": null,
   "metadata": {},
   "outputs": [],
   "source": [
    "icds = icds.merge(desc_icd, on=[\"icd_code\", \"icd_version\"], how=\"inner\")"
   ]
  },
  {
   "cell_type": "code",
   "execution_count": null,
   "metadata": {},
   "outputs": [],
   "source": [
    "icds[\"icd_code\"] = icds[\"icd_code\"].str.replace(\" \", \"\")"
   ]
  },
  {
   "cell_type": "code",
   "execution_count": null,
   "metadata": {},
   "outputs": [],
   "source": [
    "icd9 = icds.loc[icds[\"icd_version\"] == 9]"
   ]
  },
  {
   "cell_type": "code",
   "execution_count": null,
   "metadata": {},
   "outputs": [],
   "source": [
    "icd10 = icds.loc[icds[\"icd_version\"] == 10]"
   ]
  },
  {
   "cell_type": "code",
   "execution_count": null,
   "metadata": {
    "scrolled": true
   },
   "outputs": [],
   "source": [
    "hf = icds.loc[icds[\"icd_code\"].str.contains(\"N17\")]"
   ]
  },
  {
   "cell_type": "code",
   "execution_count": null,
   "metadata": {},
   "outputs": [],
   "source": [
    "hf = hf.loc[hf[\"seq_num\"] <= 3]"
   ]
  },
  {
   "cell_type": "code",
   "execution_count": null,
   "metadata": {},
   "outputs": [],
   "source": [
    "hf_9 = icds.loc[(icds[\"icd_code\"].str.contains(\"5849\") | (icds[\"icd_code\"].str.contains(\"5845\")) | (icds[\"icd_code\"].str.contains(\"5848\")) |\n",
    "        (icds[\"icd_code\"].str.contains(\"5847\"))) & (icds[\"icd_version\"]==9)]"
   ]
  },
  {
   "cell_type": "code",
   "execution_count": null,
   "metadata": {},
   "outputs": [],
   "source": [
    "hf_9 = hf_9.loc[hf_9[\"seq_num\"] <= 3]"
   ]
  },
  {
   "cell_type": "code",
   "execution_count": null,
   "metadata": {},
   "outputs": [],
   "source": [
    "hf = pd.concat([hf, hf_9])"
   ]
  },
  {
   "cell_type": "code",
   "execution_count": null,
   "metadata": {},
   "outputs": [],
   "source": [
    "hf = hf.loc[hf[\"long_title\"] != 'Other specified aftercare following surgery']"
   ]
  },
  {
   "cell_type": "code",
   "execution_count": null,
   "metadata": {},
   "outputs": [],
   "source": [
    "hf = hf.reset_index()"
   ]
  },
  {
   "cell_type": "code",
   "execution_count": null,
   "metadata": {},
   "outputs": [],
   "source": [
    "hf = hf.drop(\"index\", axis=1)"
   ]
  },
  {
   "cell_type": "code",
   "execution_count": null,
   "metadata": {},
   "outputs": [],
   "source": [
    "hf = hf.drop_duplicates(\"hadm_id\")"
   ]
  },
  {
   "cell_type": "code",
   "execution_count": null,
   "metadata": {},
   "outputs": [],
   "source": [
    "hadms = list(hf[\"hadm_id\"])"
   ]
  },
  {
   "cell_type": "code",
   "execution_count": null,
   "metadata": {},
   "outputs": [],
   "source": [
    "cursor.execute(\"SELECT * from mimic_core.transfers\")\n",
    "transfers = cursor.fetchall()\n",
    "cols = list(map(lambda x: x[0], cursor.description))\n",
    "transfers = pd.DataFrame(transfers, columns=cols)"
   ]
  },
  {
   "cell_type": "code",
   "execution_count": null,
   "metadata": {},
   "outputs": [],
   "source": [
    "transfers = transfers.sort_values([\"hadm_id\", \"intime\"])"
   ]
  },
  {
   "cell_type": "code",
   "execution_count": null,
   "metadata": {},
   "outputs": [],
   "source": [
    "transfers = transfers.loc[~transfers[\"hadm_id\"].isna()]"
   ]
  },
  {
   "cell_type": "code",
   "execution_count": null,
   "metadata": {},
   "outputs": [],
   "source": [
    "transfers.reset_index(inplace=True)"
   ]
  },
  {
   "cell_type": "code",
   "execution_count": null,
   "metadata": {},
   "outputs": [],
   "source": [
    "transfers.drop(\"index\", axis=1, inplace=True)"
   ]
  },
  {
   "cell_type": "code",
   "execution_count": null,
   "metadata": {},
   "outputs": [],
   "source": [
    "hf_t = transfers.loc[transfers[\"hadm_id\"].isin(hadms)]"
   ]
  },
  {
   "cell_type": "code",
   "execution_count": null,
   "metadata": {},
   "outputs": [],
   "source": [
    "hf_t.loc[hf_t[\"outtime\"].isna(), \"outtime\"] = hf_t[\"intime\"] + pd.Timedelta(seconds=1)"
   ]
  },
  {
   "cell_type": "code",
   "execution_count": null,
   "metadata": {},
   "outputs": [],
   "source": [
    "hf_t.reset_index(inplace=True)\n",
    "hf_t.drop(\"index\", axis=1, inplace=True)"
   ]
  },
  {
   "cell_type": "code",
   "execution_count": null,
   "metadata": {},
   "outputs": [],
   "source": [
    "hf_t.loc[(hf_t[\"careunit\"].isna()) & (hf_t[\"eventtype\"] == \"discharge\"), \"careunit\"] = \"Discharged\""
   ]
  },
  {
   "cell_type": "code",
   "execution_count": null,
   "metadata": {},
   "outputs": [],
   "source": [
    "hf_t.loc[(hf_t[\"careunit\"].isna()), \"careunit\"] = \"Unknown\""
   ]
  },
  {
   "cell_type": "code",
   "execution_count": null,
   "metadata": {},
   "outputs": [],
   "source": [
    "icu = list(hf_t.loc[hf_t[\"careunit\"].str.contains(\"Care Unit\")][\"hadm_id\"])"
   ]
  },
  {
   "cell_type": "code",
   "execution_count": null,
   "metadata": {
    "scrolled": true
   },
   "outputs": [],
   "source": [
    "first_dep = hf_t.groupby(\"hadm_id\").first()"
   ]
  },
  {
   "cell_type": "code",
   "execution_count": null,
   "metadata": {},
   "outputs": [],
   "source": [
    "hadms_f_d = list(first_dep.loc[first_dep[\"careunit\"] == \"Emergency Department\"].reset_index()[\"hadm_id\"])"
   ]
  },
  {
   "cell_type": "code",
   "execution_count": null,
   "metadata": {},
   "outputs": [],
   "source": [
    "hf_t_ed = hf_t.loc[hf_t[\"hadm_id\"].isin(hadms_f_d)]"
   ]
  },
  {
   "cell_type": "code",
   "execution_count": null,
   "metadata": {},
   "outputs": [],
   "source": [
    "hf_t_ed = hf_t_ed.loc[hf_t[\"hadm_id\"].isin(icu)]"
   ]
  },
  {
   "cell_type": "code",
   "execution_count": null,
   "metadata": {},
   "outputs": [],
   "source": [
    "hf_icu = hf_t_ed"
   ]
  },
  {
   "cell_type": "code",
   "execution_count": null,
   "metadata": {},
   "outputs": [],
   "source": [
    "hf_icu.loc[(hf_icu[\"careunit\"]==\"Emergency Department\"), \"department\"] = \"Emergency Department\""
   ]
  },
  {
   "cell_type": "code",
   "execution_count": null,
   "metadata": {},
   "outputs": [],
   "source": [
    "hf_icu.loc[(hf_icu[\"careunit\"].str.contains(\"CCU\")) | (hf_icu[\"careunit\"].str.contains(\"CVICU\")), \"department\"] = \"Cardiac ICU\""
   ]
  },
  {
   "cell_type": "code",
   "execution_count": null,
   "metadata": {},
   "outputs": [],
   "source": [
    "hf_icu.loc[(hf_icu[\"careunit\"].str.contains(\"SICU\")), \"department\"] = \"Surgical ICU\""
   ]
  },
  {
   "cell_type": "code",
   "execution_count": null,
   "metadata": {},
   "outputs": [],
   "source": [
    "hf_icu.loc[(hf_icu[\"careunit\"].str.contains(\"MICU\")) & (~hf_icu[\"careunit\"].str.contains(\"SICU\")), \"department\"] = \"Medical ICU\""
   ]
  },
  {
   "cell_type": "code",
   "execution_count": null,
   "metadata": {},
   "outputs": [],
   "source": [
    "hf_icu.loc[(hf_icu[\"careunit\"]== \"Medicine\"), \"department\"] = \"Medicine\""
   ]
  },
  {
   "cell_type": "code",
   "execution_count": null,
   "metadata": {},
   "outputs": [],
   "source": [
    "hf_icu.loc[(hf_icu[\"careunit\"]==\"Medicine/Cardiology\") | (hf_icu[\"careunit\"]==\"Medicine/Cardiology Intermediate\"), \"department\"] = \"Cardiology\""
   ]
  },
  {
   "cell_type": "code",
   "execution_count": null,
   "metadata": {},
   "outputs": [],
   "source": [
    "hf_icu.loc[(hf_icu[\"careunit\"]==\"Cardiology Surgery Intermediate\") | (hf_icu[\"careunit\"]==\"Cardiology Surger\") | (hf_icu[\"careunit\"].str.contains(\"Med/Surg\")), \"department\"] = \"Surgery\""
   ]
  },
  {
   "cell_type": "code",
   "execution_count": null,
   "metadata": {},
   "outputs": [],
   "source": [
    "hf_icu.loc[(hf_icu[\"careunit\"]== \"Discharged\"), \"department\"] = \"Discharged\""
   ]
  },
  {
   "cell_type": "code",
   "execution_count": null,
   "metadata": {},
   "outputs": [],
   "source": [
    "to_remove = list(hf_icu.loc[hf_icu[\"department\"].isna()][\"hadm_id\"].unique())"
   ]
  },
  {
   "cell_type": "code",
   "execution_count": null,
   "metadata": {},
   "outputs": [],
   "source": [
    "hf_icu_clean = hf_icu.loc[~hf_icu[\"hadm_id\"].isin(to_remove)]"
   ]
  },
  {
   "cell_type": "code",
   "execution_count": null,
   "metadata": {},
   "outputs": [],
   "source": [
    "hf_icu_clean[\"transfer_duration\"] = hf_icu_clean[\"outtime\"] - hf_icu_clean[\"intime\"]"
   ]
  },
  {
   "cell_type": "code",
   "execution_count": null,
   "metadata": {},
   "outputs": [],
   "source": [
    "hf_icu_clean = hf_icu_clean.reset_index().sort_values([\"hadm_id\", \"intime\"]).drop(\"index\", axis=1)"
   ]
  },
  {
   "cell_type": "code",
   "execution_count": null,
   "metadata": {},
   "outputs": [],
   "source": [
    "newdf = pd.DataFrame(data=None, columns=hf_icu_clean.columns)"
   ]
  },
  {
   "cell_type": "code",
   "execution_count": null,
   "metadata": {},
   "outputs": [],
   "source": [
    "hadms = hf_icu_clean[\"hadm_id\"].unique()"
   ]
  },
  {
   "cell_type": "code",
   "execution_count": null,
   "metadata": {},
   "outputs": [],
   "source": [
    "d = {'subject_id':'first', 'hadm_id':'first', 'transfer_id':'first', 'eventtype':'first', 'careunit':'first', 'intime':'min', 'outtime':'max'}\n",
    "for i in hadms:\n",
    "    hadm = hf_icu_clean.loc[hf_icu_clean[\"hadm_id\"] == i]\n",
    "    consecutive_array = (hadm.department != hadm.department.shift()).cumsum().values\n",
    "    new_hadm = hadm.groupby([consecutive_array, 'department']).agg(d).reset_index(level=1)\n",
    "    newdf = pd.concat([newdf, new_hadm])\n",
    "    \n",
    "    "
   ]
  },
  {
   "cell_type": "code",
   "execution_count": null,
   "metadata": {},
   "outputs": [],
   "source": [
    "hf_consecutive = newdf"
   ]
  },
  {
   "cell_type": "code",
   "execution_count": null,
   "metadata": {},
   "outputs": [],
   "source": [
    "hadms = hf_consecutive[\"hadm_id\"].unique()"
   ]
  },
  {
   "cell_type": "code",
   "execution_count": null,
   "metadata": {},
   "outputs": [],
   "source": [
    "hf_consecutive = hf_consecutive.reset_index().drop(\"index\", axis=1)"
   ]
  },
  {
   "cell_type": "code",
   "execution_count": null,
   "metadata": {},
   "outputs": [],
   "source": [
    "hf_consecutive = hf_consecutive.reset_index()"
   ]
  },
  {
   "cell_type": "code",
   "execution_count": null,
   "metadata": {},
   "outputs": [],
   "source": [
    "icu_flag = 0\n",
    "for i in hadms:\n",
    "    hadm = hf_consecutive.loc[hf_consecutive[\"hadm_id\"] == i]\n",
    "    for index, row in hadm.iterrows():\n",
    "        r = row\n",
    "        if(\"ICU\" in row[\"department\"]):\n",
    "            icu_flag = 1\n",
    "        if((row[\"department\"] != \"Emergency Department\") & (row[\"department\"] != \"Discharged\") & (\"ICU\" not in row[\"department\"])):\n",
    "            if(icu_flag == 1):\n",
    "                hf_consecutive.at[row[\"index\"], \"department\"] = \"Post-ICU \" + row[\"department\"] \n",
    "            else:\n",
    "                hf_consecutive.at[row[\"index\"], \"department\"] = \"Pre-ICU \" + row[\"department\"] \n",
    "    icu_flag = 0"
   ]
  },
  {
   "cell_type": "code",
   "execution_count": null,
   "metadata": {},
   "outputs": [],
   "source": [
    "hf_consecutive[\"transfer_duration\"] = hf_consecutive[\"outtime\"] - hf_consecutive[\"intime\"]"
   ]
  },
  {
   "cell_type": "code",
   "execution_count": null,
   "metadata": {},
   "outputs": [],
   "source": [
    "hadms = list(hf_consecutive[\"hadm_id\"].unique())"
   ]
  },
  {
   "cell_type": "code",
   "execution_count": null,
   "metadata": {},
   "outputs": [],
   "source": [
    "#consider only patients which have been in the ICU once\n",
    "number_of_icu_visits = hf_consecutive.loc[hf_consecutive[\"department\"].str.contains('Cardiac ICU|Medical ICU|Surgical ICU')].groupby(\"hadm_id\").count().reset_index()"
   ]
  },
  {
   "cell_type": "code",
   "execution_count": null,
   "metadata": {},
   "outputs": [],
   "source": [
    "to_remove = list(number_of_icu_visits.loc[number_of_icu_visits[\"subject_id\"] > 1][\"hadm_id\"])"
   ]
  },
  {
   "cell_type": "code",
   "execution_count": null,
   "metadata": {},
   "outputs": [],
   "source": [
    "hf_consecutive = hf_consecutive.loc[~hf_consecutive[\"hadm_id\"].isin(to_remove)]"
   ]
  },
  {
   "cell_type": "code",
   "execution_count": null,
   "metadata": {},
   "outputs": [],
   "source": [
    "hf_lab = hf_consecutive"
   ]
  },
  {
   "cell_type": "code",
   "execution_count": null,
   "metadata": {},
   "outputs": [],
   "source": [
    "cursor.execute('SELECT * FROM mimic_hosp.d_labitems')\n",
    "lab_d = cursor.fetchall()\n",
    "cols = list(map(lambda x: x[0], cursor.description))\n",
    "lab_d = pd.DataFrame(lab_d, columns=cols)   "
   ]
  },
  {
   "cell_type": "code",
   "execution_count": null,
   "metadata": {},
   "outputs": [],
   "source": [
    "def build_sql_query(table_module: str, table_name: str, id_type: str) -> str:\n",
    "    \"\"\"Generates sql query\"\"\"\n",
    "    sql_query = 'select ' + table_module + '.'+ table_name +'.* \\\n",
    "                       from ' + table_module + '.'+ table_name +' join (values {0}) \\\n",
    "                       as to_join('+ id_type + ') \\\n",
    "                       ON ' + table_module + '.'+ table_name +'.' + id_type + ' \\\n",
    "                       = to_join.' + id_type\n",
    "    return sql_query"
   ]
  },
  {
   "cell_type": "code",
   "execution_count": null,
   "metadata": {},
   "outputs": [],
   "source": [
    "def prepare_id_list_for_sql(id_list) -> str:\n",
    "    \"\"\"Prepares a list of ids for the sql statement\"\"\"\n",
    "    id_list = [str(i) for i in id_list]\n",
    "    sql_list = '), ('.join(['', *id_list, ''])\n",
    "    sql_list = sql_list[3:]\n",
    "    sql_list = sql_list[:len(sql_list)-3]\n",
    "    return sql_list"
   ]
  },
  {
   "cell_type": "code",
   "execution_count": null,
   "metadata": {},
   "outputs": [],
   "source": [
    "sql_id_list = prepare_id_list_for_sql(hadms)\n",
    "sql_query = build_sql_query(\"mimic_hosp\", \"labevents\", \"hadm_id\")\n",
    "cursor.execute(sql_query.format(sql_id_list))\n",
    "hf_lab = cursor.fetchall()\n",
    "cols = list(map(lambda x: x[0], cursor.description))\n",
    "hf_lab = pd.DataFrame(hf_lab, columns=cols)"
   ]
  },
  {
   "cell_type": "code",
   "execution_count": null,
   "metadata": {},
   "outputs": [],
   "source": [
    "hf_lab = hf_lab.merge(lab_d, on=\"itemid\", how=\"inner\")"
   ]
  },
  {
   "cell_type": "code",
   "execution_count": null,
   "metadata": {},
   "outputs": [],
   "source": [
    "count = hf_lab.groupby(\"label\").count().sort_values(\"subject_id\", ascending=False).head(30)"
   ]
  },
  {
   "cell_type": "code",
   "execution_count": null,
   "metadata": {},
   "outputs": [],
   "source": [
    "lab_labels = list(count.reset_index()[\"label\"])"
   ]
  },
  {
   "cell_type": "code",
   "execution_count": null,
   "metadata": {},
   "outputs": [],
   "source": [
    "hf_lab = hf_lab.sort_values([\"subject_id\", \"hadm_id\", \"charttime\"])"
   ]
  },
  {
   "cell_type": "code",
   "execution_count": null,
   "metadata": {},
   "outputs": [],
   "source": [
    "to_merge = hf_consecutive[[\"hadm_id\", \"intime\", \"outtime\", \"department\"]]"
   ]
  },
  {
   "cell_type": "code",
   "execution_count": null,
   "metadata": {
    "scrolled": true
   },
   "outputs": [],
   "source": [
    "hf_consecutive.to_csv(\"hf_consecutive_EAA.csv\")"
   ]
  },
  {
   "cell_type": "code",
   "execution_count": null,
   "metadata": {},
   "outputs": [],
   "source": [
    "#lab event to department\n",
    "sqlcode = '''\n",
    "select *\n",
    "from hf_lab\n",
    "inner join to_merge on hf_lab.hadm_id=to_merge.hadm_id\n",
    "where hf_lab.charttime >= to_merge.intime and hf_lab.charttime <= to_merge.outtime \n",
    "\n",
    "'''\n",
    "\n",
    "newdf = ps.sqldf(sqlcode,locals())\n",
    "newdf = newdf.loc[:,~newdf.columns.duplicated()]\n",
    "newdf = newdf.sort_values([\"subject_id\", \"hadm_id\", \"charttime\"])\n",
    "newdf = newdf.reset_index()\n",
    "newdf = newdf.drop(\"index\", axis=1)"
   ]
  },
  {
   "cell_type": "code",
   "execution_count": null,
   "metadata": {},
   "outputs": [],
   "source": [
    "#Make last lab value the discharge lab value"
   ]
  },
  {
   "cell_type": "code",
   "execution_count": null,
   "metadata": {},
   "outputs": [],
   "source": [
    "discharge_info = newdf.groupby([\"subject_id\", \"hadm_id\"]).last().reset_index()[[\"subject_id\", \"hadm_id\", \"charttime\"]]"
   ]
  },
  {
   "cell_type": "code",
   "execution_count": null,
   "metadata": {
    "scrolled": true
   },
   "outputs": [],
   "source": [
    "# the dictionary to pass to pandas dataframe\n",
    "d = {}\n",
    "\n",
    "# a counter to use to add entries to \"dict\"\n",
    "i = 0 \n",
    "\n",
    "for index, row in discharge_info.iterrows():\n",
    "    labs = newdf.loc[(newdf[\"hadm_id\"] == row[\"hadm_id\"]) & (newdf[\"charttime\"] == row[\"charttime\"])]\n",
    "    labs[\"department\"] = \"Discharged\"\n",
    "    d[i] = labs\n",
    "    i = i + 1\n"
   ]
  },
  {
   "cell_type": "code",
   "execution_count": null,
   "metadata": {
    "scrolled": true
   },
   "outputs": [],
   "source": [
    "to_concat = pd.DataFrame()\n",
    "for i in range(0, len(d)-1):\n",
    "    to_concat = pd.concat([to_concat, d[i]])"
   ]
  },
  {
   "cell_type": "code",
   "execution_count": null,
   "metadata": {},
   "outputs": [],
   "source": [
    "newdf = pd.concat([newdf, to_concat])"
   ]
  },
  {
   "cell_type": "code",
   "execution_count": null,
   "metadata": {},
   "outputs": [],
   "source": [
    "#remove lab values from emergency department as they are under representative, most values n < 100\n",
    "newdf = newdf.loc[newdf[\"department\"] != \"Emergency Department\"]"
   ]
  },
  {
   "cell_type": "code",
   "execution_count": null,
   "metadata": {},
   "outputs": [],
   "source": [
    "x = newdf.groupby([\"subject_id\",\"hadm_id\", \"department\", \"label\", \"intime\", \"outtime\"]).agg({\"valuenum\":\"mean\"}).reset_index()"
   ]
  },
  {
   "cell_type": "code",
   "execution_count": null,
   "metadata": {},
   "outputs": [],
   "source": [
    "lab_df = x.loc[x[\"label\"].isin(lab_labels)]"
   ]
  },
  {
   "cell_type": "code",
   "execution_count": null,
   "metadata": {},
   "outputs": [],
   "source": [
    "lab_df = lab_df.loc[~lab_df[\"valuenum\"].isna()]"
   ]
  },
  {
   "cell_type": "code",
   "execution_count": null,
   "metadata": {},
   "outputs": [],
   "source": [
    "to_merge = newdf.groupby([\"hadm_id\", \"label\"]).first()\n",
    "\n",
    "to_merge = to_merge.reset_index()\n",
    "\n",
    "to_merge = to_merge[[\"hadm_id\", \"label\", \"ref_range_lower\",\"ref_range_upper\"]]"
   ]
  },
  {
   "cell_type": "code",
   "execution_count": null,
   "metadata": {},
   "outputs": [],
   "source": [
    "#put ref here\n",
    "x = x.merge(to_merge, on=[\"hadm_id\", \"label\"], how=\"left\")"
   ]
  },
  {
   "cell_type": "code",
   "execution_count": null,
   "metadata": {},
   "outputs": [],
   "source": [
    "lab_df = x.loc[x[\"label\"].isin(lab_labels)]"
   ]
  },
  {
   "cell_type": "code",
   "execution_count": null,
   "metadata": {},
   "outputs": [],
   "source": [
    "lab_df.loc[lab_df[\"valuenum\"] < lab_df[\"ref_range_lower\"], \"abnormal\"] = \"abnormal low\"\n",
    "lab_df.loc[lab_df[\"valuenum\"] > lab_df[\"ref_range_upper\"], \"abnormal\"] = \"abnormal high\"\n",
    "lab_df.loc[(lab_df[\"valuenum\"] >= lab_df[\"ref_range_lower\"]) & (lab_df[\"valuenum\"] <= lab_df[\"ref_range_upper\"]), \"abnormal\"] = \"normal\""
   ]
  },
  {
   "cell_type": "code",
   "execution_count": null,
   "metadata": {},
   "outputs": [],
   "source": [
    "lab_df = lab_df.loc[~lab_df[\"valuenum\"].isna()]"
   ]
  },
  {
   "cell_type": "code",
   "execution_count": null,
   "metadata": {},
   "outputs": [],
   "source": [
    "lab_df.drop([\"ref_range_lower\", \"ref_range_upper\"], axis=1, inplace=True)"
   ]
  },
  {
   "cell_type": "code",
   "execution_count": null,
   "metadata": {
    "scrolled": true
   },
   "outputs": [],
   "source": [
    "#merge on hadm_id, department, intime, outtime\n",
    "test = lab_df.loc[lab_df[\"department\"] == \"Discharged\"]"
   ]
  },
  {
   "cell_type": "code",
   "execution_count": null,
   "metadata": {},
   "outputs": [],
   "source": [
    "lab_df = lab_df.reset_index()\n",
    "lab_df.drop(\"index\", axis=1, inplace=True)"
   ]
  },
  {
   "cell_type": "code",
   "execution_count": null,
   "metadata": {},
   "outputs": [],
   "source": [
    "#lab values of Discharged do not have the correct timestamp yet and cannot be merged!\n",
    "deps = hf_consecutive.loc[hf_consecutive[\"department\"] == \"Discharged\"][[\"subject_id\", \"hadm_id\", \"intime\", \"outtime\", \"department\"]]\n",
    "lab_df.loc[lab_df[\"department\"] == \"Discharged\"]\n",
    "for index, row in lab_df.iterrows():\n",
    "    if (row[\"department\"] == \"Discharged\"):\n",
    "        time = deps.loc[deps[\"hadm_id\"] == row[\"hadm_id\"]]\n",
    "        time = time.reset_index()\n",
    "        lab_df.loc[index, \"intime\"] = time[\"intime\"][0]\n",
    "        lab_df.loc[index, \"outtime\"] = time[\"outtime\"][0]\n",
    "        "
   ]
  },
  {
   "cell_type": "code",
   "execution_count": null,
   "metadata": {},
   "outputs": [],
   "source": [
    "lab_df[\"intime\"] = lab_df[\"intime\"].apply(lambda x: pd.to_datetime(x))"
   ]
  },
  {
   "cell_type": "code",
   "execution_count": null,
   "metadata": {
    "scrolled": true
   },
   "outputs": [],
   "source": [
    "lab_df[\"outtime\"] = lab_df[\"outtime\"].apply(lambda x: pd.to_datetime(x))"
   ]
  },
  {
   "cell_type": "code",
   "execution_count": null,
   "metadata": {},
   "outputs": [],
   "source": [
    "len(lab_df.loc[lab_df[\"department\"] == \"Discharged\"][\"hadm_id\"].unique())"
   ]
  },
  {
   "cell_type": "code",
   "execution_count": null,
   "metadata": {},
   "outputs": [],
   "source": [
    "#make log ready for process mining --> for each lab value a separate column\n",
    "lab_pm = hf_consecutive[[\"subject_id\", \"hadm_id\", \"transfer_id\", \"eventtype\", \"careunit\", \"intime\", \"outtime\", \"department\"]]\n",
    "for label in lab_labels:\n",
    "    df_single = lab_df.loc[lab_df[\"label\"] == label]\n",
    "    df_single.rename({\"valuenum\":label, \"abnormal\":\"Abnormal \"+ label}, axis=1, inplace=True)\n",
    "    df_single.drop(\"label\", axis=1, inplace=True)\n",
    "    lab_pm = lab_pm.merge(df_single, on=[\"subject_id\", \"hadm_id\", \"intime\", \"outtime\", \"department\"], how=\"left\")"
   ]
  },
  {
   "cell_type": "code",
   "execution_count": null,
   "metadata": {},
   "outputs": [],
   "source": [
    "cursor.execute('SELECT * FROM mimic_core.admissions where hadm_id = any(%s)', [hadms])\n",
    "adms = cursor.fetchall()\n",
    "cols = list(map(lambda x: x[0], cursor.description))\n",
    "adms = pd.DataFrame(adms, columns=cols)"
   ]
  },
  {
   "cell_type": "code",
   "execution_count": null,
   "metadata": {},
   "outputs": [],
   "source": [
    "ed = adms[[\"hadm_id\", \"admission_location\", \"insurance\", \"ethnicity\", \"marital_status\"]]"
   ]
  },
  {
   "cell_type": "code",
   "execution_count": null,
   "metadata": {},
   "outputs": [],
   "source": [
    "discharge = adms[[\"hadm_id\", \"discharge_location\"]]"
   ]
  },
  {
   "cell_type": "code",
   "execution_count": null,
   "metadata": {},
   "outputs": [],
   "source": [
    "ed[\"department\"] = \"Emergency Department\""
   ]
  },
  {
   "cell_type": "code",
   "execution_count": null,
   "metadata": {},
   "outputs": [],
   "source": [
    "discharge[\"department\"] = \"Discharged\""
   ]
  },
  {
   "cell_type": "code",
   "execution_count": null,
   "metadata": {},
   "outputs": [],
   "source": [
    "lab_demo = lab_pm.merge(ed, on=[\"hadm_id\", \"department\"], how=\"left\")"
   ]
  },
  {
   "cell_type": "code",
   "execution_count": null,
   "metadata": {},
   "outputs": [],
   "source": [
    "lab_demo = lab_demo.merge(discharge, on=[\"hadm_id\", \"department\"], how=\"left\")"
   ]
  },
  {
   "cell_type": "code",
   "execution_count": null,
   "metadata": {},
   "outputs": [],
   "source": [
    "cursor.execute('SELECT * FROM mimic_core.patients')\n",
    "patients = cursor.fetchall()\n",
    "cols = list(map(lambda x: x[0], cursor.description))\n",
    "patients = pd.DataFrame(patients, columns=cols)"
   ]
  },
  {
   "cell_type": "code",
   "execution_count": null,
   "metadata": {},
   "outputs": [],
   "source": [
    "patients[\"department\"] = \"Emergency Department\""
   ]
  },
  {
   "cell_type": "code",
   "execution_count": null,
   "metadata": {},
   "outputs": [],
   "source": [
    "patients = patients[[\"subject_id\", \"department\", \"anchor_age\"]]"
   ]
  },
  {
   "cell_type": "code",
   "execution_count": null,
   "metadata": {},
   "outputs": [],
   "source": [
    "lab_demo = lab_demo.merge(patients, on=[\"subject_id\", \"department\"], how=\"left\")"
   ]
  },
  {
   "cell_type": "code",
   "execution_count": null,
   "metadata": {},
   "outputs": [],
   "source": [
    "final_pm = lab_demo"
   ]
  },
  {
   "cell_type": "code",
   "execution_count": null,
   "metadata": {},
   "outputs": [],
   "source": [
    "final_pm = final_pm.rename({\"anchor_age\":\"age\"}, axis=1)"
   ]
  },
  {
   "cell_type": "code",
   "execution_count": null,
   "metadata": {},
   "outputs": [],
   "source": [
    "final_pm.drop(\"careunit\", axis=1, inplace=True)"
   ]
  },
  {
   "cell_type": "code",
   "execution_count": null,
   "metadata": {},
   "outputs": [],
   "source": [
    "final_pm.drop(\"eventtype\", axis=1, inplace=True)"
   ]
  },
  {
   "cell_type": "code",
   "execution_count": null,
   "metadata": {},
   "outputs": [],
   "source": [
    "final_pm = final_pm.drop([\"Specimen Type\", \"Abnormal Specimen Type\", \"Base Excess\", \"Abnormal Base Excess\"], axis=1)"
   ]
  },
  {
   "cell_type": "code",
   "execution_count": null,
   "metadata": {},
   "outputs": [],
   "source": [
    "final_pm = final_pm.rename({\"Calcium, Total\":\"Calcium\", \"Abnormal Calcium, Total\":\"Abnormal Calcium\"}, axis=1)"
   ]
  },
  {
   "cell_type": "code",
   "execution_count": null,
   "metadata": {},
   "outputs": [],
   "source": [
    "final_pm"
   ]
  },
  {
   "cell_type": "code",
   "execution_count": null,
   "metadata": {},
   "outputs": [],
   "source": [
    "hadms = list(final_pm[\"hadm_id\"].unique())"
   ]
  },
  {
   "cell_type": "code",
   "execution_count": null,
   "metadata": {},
   "outputs": [],
   "source": [
    "cursor.execute('SELECT * FROM mimic_ed.edstays where hadm_id = any(%s)', [hadms])\n",
    "ed_stay = cursor.fetchall()\n",
    "cols = list(map(lambda x: x[0], cursor.description))\n",
    "ed_stay = pd.DataFrame(ed_stay, columns=cols)"
   ]
  },
  {
   "cell_type": "code",
   "execution_count": null,
   "metadata": {},
   "outputs": [],
   "source": [
    "ed_stay = ed_stay[[\"subject_id\", \"hadm_id\", \"stay_id\"]]"
   ]
  },
  {
   "cell_type": "code",
   "execution_count": null,
   "metadata": {},
   "outputs": [],
   "source": [
    "ed_stay.rename({\"stay_id\": \"ed_stay_id\"}, axis=1, inplace=True)"
   ]
  },
  {
   "cell_type": "code",
   "execution_count": null,
   "metadata": {},
   "outputs": [],
   "source": [
    "stays = list(ed_stay[\"ed_stay_id\"])"
   ]
  },
  {
   "cell_type": "code",
   "execution_count": null,
   "metadata": {},
   "outputs": [],
   "source": [
    "cursor.execute('SELECT * FROM mimic_ed.triage where stay_id = any(%s)', [stays])\n",
    "triage = cursor.fetchall()\n",
    "cols = list(map(lambda x: x[0], cursor.description))\n",
    "triage = pd.DataFrame(triage, columns=cols)"
   ]
  },
  {
   "cell_type": "code",
   "execution_count": null,
   "metadata": {},
   "outputs": [],
   "source": [
    "to_merge = triage[[\"stay_id\", \"temperature\", \"heartrate\", \"resprate\", \"o2sat\", \"sbp\", \"dbp\", \"pain\", \"acuity\", \"chiefcomplaint\"]]"
   ]
  },
  {
   "cell_type": "code",
   "execution_count": null,
   "metadata": {},
   "outputs": [],
   "source": [
    "x = final_pm.merge(ed_stay, on=[\"hadm_id\", \"subject_id\"], how=\"left\")"
   ]
  },
  {
   "cell_type": "code",
   "execution_count": null,
   "metadata": {},
   "outputs": [],
   "source": [
    "x.loc[(~x[\"ed_stay_id\"].isna()) & (x[\"department\"] != \"Emergency Department\"), \"ed_stay_id\"] = np.nan"
   ]
  },
  {
   "cell_type": "code",
   "execution_count": null,
   "metadata": {},
   "outputs": [],
   "source": [
    "final = x.merge(to_merge, left_on=\"ed_stay_id\", right_on=\"stay_id\", how=\"left\")"
   ]
  },
  {
   "cell_type": "code",
   "execution_count": null,
   "metadata": {},
   "outputs": [],
   "source": [
    "final_pm = final.drop_duplicates([\"hadm_id\", \"department\"])"
   ]
  },
  {
   "cell_type": "code",
   "execution_count": null,
   "metadata": {},
   "outputs": [],
   "source": [
    "final_pm.drop(\"chiefcomplaint\",axis=1, inplace=True)"
   ]
  },
  {
   "cell_type": "code",
   "execution_count": null,
   "metadata": {},
   "outputs": [],
   "source": [
    "final_pm.to_csv(\"Kidney_Log.csv\")"
   ]
  }
 ],
 "metadata": {
  "kernelspec": {
   "display_name": "Python 3",
   "language": "python",
   "name": "python3"
  },
  "language_info": {
   "codemirror_mode": {
    "name": "ipython",
    "version": 3
   },
   "file_extension": ".py",
   "mimetype": "text/x-python",
   "name": "python",
   "nbconvert_exporter": "python",
   "pygments_lexer": "ipython3",
   "version": "3.8.3"
  }
 },
 "nbformat": 4,
 "nbformat_minor": 4
}
